{
 "cells": [
  {
   "cell_type": "code",
   "execution_count": 1,
   "metadata": {},
   "outputs": [],
   "source": [
    "%reload_ext autoreload\n",
    "%autoreload 2"
   ]
  },
  {
   "cell_type": "code",
   "execution_count": 2,
   "metadata": {},
   "outputs": [],
   "source": [
    "import matplotlib.pyplot as plt\n",
    "%matplotlib inline"
   ]
  },
  {
   "cell_type": "code",
   "execution_count": 3,
   "metadata": {},
   "outputs": [],
   "source": [
    "import fastai\n",
    "import fastai.vision\n",
    "import numpy as np"
   ]
  },
  {
   "cell_type": "code",
   "execution_count": 4,
   "metadata": {},
   "outputs": [],
   "source": [
    "class ArrayImageList(fastai.vision.ImageList):\n",
    "    @classmethod\n",
    "    def from_numpy(cls, numpy_array):\n",
    "        return cls(items=range(len(numpy_array)),inner_df=numpy_array)\n",
    "    \n",
    "    def label_from_array(self, array, label_cls=None, **kwargs):\n",
    "        return self._label_from_list(array[self.items.astype(np.int)],\n",
    "                                     label_cls=label_cls,\n",
    "                                     **kwargs)\n",
    "    \n",
    "    def get(self, i):\n",
    "        n = self.inner_df[i]\n",
    "        n = fastai.vision.torch.tensor(n).float()\n",
    "        return fastai.vision.Image(n)"
   ]
  },
  {
   "cell_type": "code",
   "execution_count": 6,
   "metadata": {},
   "outputs": [],
   "source": [
    "learn = fastai.vision.load_learner('','NIR_model05.pkl')"
   ]
  },
  {
   "cell_type": "code",
   "execution_count": 7,
   "metadata": {},
   "outputs": [],
   "source": [
    "import scipy.io as sio\n",
    "\n",
    "def get_xY(filename, maxx=600):\n",
    "    \n",
    "    sio.whosmat(filename)\n",
    "\n",
    "    matcontents = sio.loadmat(filename)\n",
    "    keys = matcontents.keys()\n",
    "#    for key in list(keys):\n",
    "#        if key[0] == '_':\n",
    "#            keys.remove(key)\n",
    "#            print('_', key)\n",
    "            \n",
    "            \n",
    "    d = {}            \n",
    "    for key in keys:\n",
    "        if key[0] != '_':\n",
    "            data = matcontents[key][0][0]\n",
    "            if key[-1] == \"Y\":\n",
    "                Ydata = data[5]\n",
    "                d[key] = Ydata\n",
    "            else:\n",
    "                xdata = data[5][:,:maxx]\n",
    "                d[key] = xdata\n",
    "                d[\"axisscale\"]= data[7][1][0][0][:maxx].astype(np.float)\n",
    "                    \n",
    "    return d"
   ]
  },
  {
   "cell_type": "code",
   "execution_count": 8,
   "metadata": {},
   "outputs": [],
   "source": [
    "filename = 'Dataset/nir_shootout_2002.mat'\n",
    "dataset = get_xY(filename)\n",
    "#Rescale to NN friendly number range\n",
    "from ChemUtils import GlobalStandardScaler\n",
    "\n",
    "xscaler = GlobalStandardScaler()\n",
    "\n",
    "#Calibrate is smaller than test, so they are swapped\n",
    "X_train = xscaler.fit_transform(dataset['test_1']) #From instrument 1\n",
    "X_test = xscaler.transform(dataset['calibrate_2']) #! NB only transform on test set. From instrument 2\n",
    "\n",
    "yscaler = GlobalStandardScaler()\n",
    "y_train = yscaler.fit_transform(dataset['test_Y'][:,2])\n",
    "y_test = yscaler.transform(dataset['calibrate_Y'][:,2])\n",
    "\n",
    "X_indepTest0 = np.asarray(xscaler.transform(dataset['test_2']), dtype=np.float32)\n",
    "X_indepTest = X_indepTest0[:, np.newaxis, :] #Added dim to fit fastai.vision image structure\n",
    "y_indepTest = y_train\n"
   ]
  },
  {
   "cell_type": "code",
   "execution_count": 9,
   "metadata": {},
   "outputs": [
    {
     "data": {
      "text/plain": [
       "(FloatItem [0.489441], tensor([0.4894]), tensor([0.4894]))"
      ]
     },
     "execution_count": 9,
     "metadata": {},
     "output_type": "execute_result"
    }
   ],
   "source": [
    "ypred_indep = learn.predict(X_indepTest[0,:,:])\n",
    "ypred_indep"
   ]
  },
  {
   "cell_type": "code",
   "execution_count": 10,
   "metadata": {},
   "outputs": [
    {
     "name": "stdout",
     "output_type": "stream",
     "text": [
      "X_indepTest.shape (460, 1, 600)\n"
     ]
    }
   ],
   "source": [
    "print('X_indepTest.shape', X_indepTest.shape)"
   ]
  },
  {
   "cell_type": "code",
   "execution_count": 11,
   "metadata": {},
   "outputs": [],
   "source": [
    "n_indep = X_indepTest.shape[0]\n",
    "prd_indep = np.zeros((n_indep))\n",
    "for prd in range(n_indep):\n",
    "    ypred_indep = learn.predict(X_indepTest[prd,:,:])\n",
    "    prd_indep[prd] = float(ypred_indep[1])"
   ]
  },
  {
   "cell_type": "code",
   "execution_count": 12,
   "metadata": {},
   "outputs": [
    {
     "data": {
      "image/png": "[encoded data removed]",
      "text/plain": [
       "<Figure size 432x288 with 1 Axes>"
      ]
     },
     "metadata": {
      "needs_background": "light"
     },
     "output_type": "display_data"
    }
   ],
   "source": [
    "plt.plot(prd_indep, y_indepTest, '.')\n",
    "plt.plot([-2,3], [-2,3])\n",
    "plt.ylabel('y, indep validation set')\n",
    "_  =plt.xlabel('predicted y')"
   ]
  },
  {
   "cell_type": "code",
   "execution_count": null,
   "metadata": {},
   "outputs": [],
   "source": []
  }
 ],
 "metadata": {
  "kernelspec": {
   "display_name": "Python 3",
   "language": "python",
   "name": "python3"
  },
  "language_info": {
   "codemirror_mode": {
    "name": "ipython",
    "version": 3
   },
   "file_extension": ".py",
   "mimetype": "text/x-python",
   "name": "python",
   "nbconvert_exporter": "python",
   "pygments_lexer": "ipython3",
   "version": "3.6.10"
  }
 },
 "nbformat": 4,
 "nbformat_minor": 2
}
